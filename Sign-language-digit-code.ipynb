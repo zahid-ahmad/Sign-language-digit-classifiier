{
 "cells": [
  {
   "cell_type": "code",
   "execution_count": null,
   "id": "c0d8bd09",
   "metadata": {},
   "outputs": [],
   "source": [
    "import os\n",
    "import keras\n",
    "import random\n",
    "import pandas as pd\n",
    "import numpy as np\n",
    "import tensorflow as tf\n",
    "import matplotlib.pyplot as plt\n",
    "import shutil\n",
    "from tensorflow.keras.optimizers import Adam, RMSprop\n",
    "from keras.preprocessing.image import ImageDataGenerator\n",
    "from keras.models import Sequential\n",
    "from keras.layers import Dense"
   ]
  },
  {
   "cell_type": "code",
   "execution_count": 3,
   "id": "efa07026",
   "metadata": {},
   "outputs": [
    {
     "name": "stdout",
     "output_type": "stream",
     "text": [
      "Found 1712 images belonging to 10 classes.\n",
      "Found 50 images belonging to 10 classes.\n",
      "Found 300 images belonging to 10 classes.\n"
     ]
    }
   ],
   "source": [
    "\n",
    "\n",
    "# Set up data generators with data augmentation\n",
    "train_datagen = ImageDataGenerator(\n",
    "    rescale=1./255,\n",
    "    rotation_range=20,\n",
    "    width_shift_range=0.2,\n",
    "    height_shift_range=0.2,\n",
    "    shear_range=0.2,\n",
    "    zoom_range=0.2,\n",
    "    horizontal_flip=True,\n",
    "    fill_mode='nearest')\n",
    "\n",
    "test_datagen = ImageDataGenerator(rescale=1./255)\n",
    "\n",
    "train_batches = train_datagen.flow_from_directory(\n",
    "    'Sign-Language-Digits-Dataset/train',\n",
    "    target_size=(224, 224),\n",
    "    batch_size=10,\n",
    "    shuffle=True,\n",
    "    classes=['0', '1', '2', '3', '4', '5', '6', '7', '8', '9'])\n",
    "\n",
    "test_batches = test_datagen.flow_from_directory(\n",
    "    'Sign-Language-Digits-Dataset/test',\n",
    "    target_size=(224, 224),\n",
    "    batch_size=10,\n",
    "    classes=['0', '1', '2', '3', '4', '5', '6', '7', '8', '9'])\n",
    "\n",
    "valid_batches = test_datagen.flow_from_directory(\n",
    "    'Sign-Language-Digits-Dataset/valid',\n",
    "    target_size=(224, 224),\n",
    "    batch_size=10,\n",
    "    classes=['0', '1', '2', '3', '4', '5', '6', '7', '8', '9'])\n",
    "\n"
   ]
  },
  {
   "cell_type": "code",
   "execution_count": null,
   "id": "ba46f61c",
   "metadata": {},
   "outputs": [],
   "source": [
    "# Load pre-trained MobileNet model\n",
    "mobile_net = tf.keras.applications.mobilenet.MobileNet()\n",
    "x = mobile_net.layers[-2].output\n",
    "output = Dense(units=10, activation='softmax')(x)\n",
    "model = tf.keras.Model(inputs=mobile_net.input, outputs=output)\n",
    "\n",
    "# Freeze base model layers\n",
    "for layer in model.layers[:-23]:\n",
    "    layer.trainable = False\n",
    "\n",
    "# Compile the model\n",
    "model.compile(\n",
    "    optimizer=RMSprop(learning_rate=0.0001),\n",
    "    loss='categorical_crossentropy',\n",
    "    metrics=['accuracy'])\n",
    "\n"
   ]
  },
  {
   "cell_type": "code",
   "execution_count": 7,
   "id": "917baa35",
   "metadata": {},
   "outputs": [],
   "source": [
    "from keras.callbacks import EarlyStopping, ReduceLROnPlateau\n",
    "early_stopping = EarlyStopping(monitor='val_loss', patience=10, verbose=1, mode='min', restore_best_weights=True)\n",
    "reduce_lr = ReduceLROnPlateau(monitor='val_loss', factor=0.1, patience=5, verbose=1, mode='min')"
   ]
  },
  {
   "cell_type": "code",
   "execution_count": 8,
   "id": "1f12b66c",
   "metadata": {},
   "outputs": [
    {
     "name": "stdout",
     "output_type": "stream",
     "text": [
      "Epoch 1/20\n",
      "172/172 - 217s - loss: 0.1760 - accuracy: 0.9457 - val_loss: 0.0960 - val_accuracy: 0.9700 - 217s/epoch - 1s/step\n",
      "Epoch 2/20\n",
      "172/172 - 228s - loss: 0.1914 - accuracy: 0.9428 - val_loss: 0.0959 - val_accuracy: 0.9667 - 228s/epoch - 1s/step\n",
      "Epoch 3/20\n",
      "172/172 - 226s - loss: 0.1176 - accuracy: 0.9632 - val_loss: 0.2023 - val_accuracy: 0.9600 - 226s/epoch - 1s/step\n",
      "Epoch 4/20\n",
      "172/172 - 220s - loss: 0.1281 - accuracy: 0.9609 - val_loss: 0.2620 - val_accuracy: 0.9333 - 220s/epoch - 1s/step\n",
      "Epoch 5/20\n",
      "172/172 - 222s - loss: 0.1398 - accuracy: 0.9626 - val_loss: 0.0889 - val_accuracy: 0.9767 - 222s/epoch - 1s/step\n",
      "Epoch 6/20\n",
      "172/172 - 217s - loss: 0.1062 - accuracy: 0.9731 - val_loss: 0.1478 - val_accuracy: 0.9667 - 217s/epoch - 1s/step\n",
      "Epoch 7/20\n",
      "172/172 - 221s - loss: 0.1000 - accuracy: 0.9708 - val_loss: 0.2692 - val_accuracy: 0.9433 - 221s/epoch - 1s/step\n",
      "Epoch 8/20\n",
      "172/172 - 215s - loss: 0.0983 - accuracy: 0.9778 - val_loss: 0.0274 - val_accuracy: 0.9900 - 215s/epoch - 1s/step\n",
      "Epoch 9/20\n",
      "172/172 - 231s - loss: 0.0722 - accuracy: 0.9784 - val_loss: 0.1066 - val_accuracy: 0.9833 - 231s/epoch - 1s/step\n",
      "Epoch 10/20\n",
      "172/172 - 271s - loss: 0.0858 - accuracy: 0.9731 - val_loss: 0.2070 - val_accuracy: 0.9733 - 271s/epoch - 2s/step\n",
      "Epoch 11/20\n",
      "172/172 - 376s - loss: 0.0457 - accuracy: 0.9842 - val_loss: 0.0522 - val_accuracy: 0.9833 - 376s/epoch - 2s/step\n",
      "Epoch 12/20\n",
      "172/172 - 512s - loss: 0.0653 - accuracy: 0.9819 - val_loss: 0.0223 - val_accuracy: 0.9933 - 512s/epoch - 3s/step\n",
      "Epoch 13/20\n",
      "172/172 - 244s - loss: 0.0487 - accuracy: 0.9819 - val_loss: 0.0876 - val_accuracy: 0.9767 - 244s/epoch - 1s/step\n",
      "Epoch 14/20\n",
      "172/172 - 377s - loss: 0.0597 - accuracy: 0.9831 - val_loss: 0.1185 - val_accuracy: 0.9700 - 377s/epoch - 2s/step\n",
      "Epoch 15/20\n",
      "172/172 - 473s - loss: 0.0304 - accuracy: 0.9901 - val_loss: 0.0562 - val_accuracy: 0.9800 - 473s/epoch - 3s/step\n",
      "Epoch 16/20\n",
      "172/172 - 268s - loss: 0.0608 - accuracy: 0.9813 - val_loss: 0.0469 - val_accuracy: 0.9833 - 268s/epoch - 2s/step\n",
      "Epoch 17/20\n",
      "172/172 - 252s - loss: 0.0622 - accuracy: 0.9813 - val_loss: 0.0042 - val_accuracy: 1.0000 - 252s/epoch - 1s/step\n",
      "Epoch 18/20\n",
      "172/172 - 262s - loss: 0.0681 - accuracy: 0.9848 - val_loss: 0.0838 - val_accuracy: 0.9767 - 262s/epoch - 2s/step\n",
      "Epoch 19/20\n",
      "172/172 - 236s - loss: 0.0438 - accuracy: 0.9877 - val_loss: 0.0423 - val_accuracy: 0.9867 - 236s/epoch - 1s/step\n",
      "Epoch 20/20\n",
      "172/172 - 251s - loss: 0.0617 - accuracy: 0.9790 - val_loss: 0.0337 - val_accuracy: 0.9833 - 251s/epoch - 1s/step\n"
     ]
    }
   ],
   "source": [
    "# Train the model with data augmentation\n",
    "history = model.fit(\n",
    "    train_batches,\n",
    "    steps_per_epoch=len(train_batches),\n",
    "    validation_data=valid_batches,\n",
    "    validation_steps=len(valid_batches),\n",
    "    epochs=20,\n",
    "    verbose=2,\n",
    "    callbacks = [early_stopping]\n",
    ")\n",
    "\n",
    "\n"
   ]
  },
  {
   "cell_type": "code",
   "execution_count": 9,
   "id": "175e75ea",
   "metadata": {},
   "outputs": [
    {
     "data": {
      "image/png": "[encoded data removed]",
      "text/plain": [
       "<Figure size 432x288 with 1 Axes>"
      ]
     },
     "metadata": {
      "needs_background": "light"
     },
     "output_type": "display_data"
    }
   ],
   "source": [
    "# Plot training and validation accuracy\n",
    "acc = history.history['accuracy']\n",
    "val_acc = history.history['val_accuracy']\n",
    "epochs = range(len(acc))\n",
    "plt.plot(epochs, acc, 'r', label='Training accuracy')\n",
    "plt.plot(epochs, val_acc, 'b', label='Validation accuracy')\n",
    "plt.title('Training and validation accuracy')\n",
    "plt.legend(loc=0)\n",
    "plt.show()"
   ]
  },
  {
   "cell_type": "code",
   "execution_count": 10,
   "id": "14b5afb2",
   "metadata": {},
   "outputs": [],
   "source": [
    "# Save the trained model\n",
    "model.save('sign_language_model.h5')\n"
   ]
  },
  {
   "cell_type": "code",
   "execution_count": 12,
   "id": "3c6dbdfb",
   "metadata": {},
   "outputs": [],
   "source": [
    "import cv2\n",
    "import numpy as np\n",
    "import tensorflow as tf\n",
    "from keras.preprocessing import image\n",
    "\n",
    "# Load the Sign Language model\n",
    "model = tf.keras.models.load_model('sign_language_model.h5')\n",
    "\n",
    "# Define a function to preprocess the input image\n",
    "def preprocess_image(img):\n",
    "    img = cv2.resize(img, (224, 224))\n",
    "    img = image.img_to_array(img)\n",
    "    img = np.expand_dims(img, axis=0)\n",
    "    img = tf.keras.applications.mobilenet.preprocess_input(img)\n",
    "    return img\n",
    "\n",
    "# Create a window to display the camera feed\n",
    "cv2.namedWindow(\"Sign Language Detection\")\n",
    "\n",
    "# Start the camera capture\n",
    "cap = cv2.VideoCapture(0)\n",
    "\n",
    "# Loop through each frame from the camera\n",
    "while True:\n",
    "    # Read a frame from the camera\n",
    "    ret, frame = cap.read()\n",
    "\n",
    "    # Preprocess the frame\n",
    "    img = preprocess_image(frame)\n",
    "\n",
    "    # Make a prediction\n",
    "    prediction = model.predict(img)\n",
    "\n",
    "    # Get the predicted class label\n",
    "    class_label = np.argmax(prediction)\n",
    "\n",
    "    # Convert the class label to a string\n",
    "    if class_label == 0:\n",
    "        class_string = 'Zero'\n",
    "    elif class_label == 1:\n",
    "        class_string = 'One'\n",
    "    elif class_label == 2:\n",
    "        class_string = 'Two'\n",
    "    elif class_label == 3:\n",
    "        class_string = 'Three'\n",
    "    elif class_label == 4:\n",
    "        class_string = 'Four'\n",
    "    elif class_label == 5:\n",
    "        class_string = 'Five'\n",
    "    elif class_label == 6:\n",
    "        class_string = 'Six'\n",
    "    elif class_label == 7:\n",
    "        class_string = 'Seven'\n",
    "    elif class_label == 8:\n",
    "        class_string = 'Eight'\n",
    "    elif class_label == 9:\n",
    "        class_string = 'Nine'\n",
    "    else:\n",
    "        class_string = 'Unknown'\n",
    "\n",
    "    # Draw the predicted class label on the frame\n",
    "    cv2.putText(frame, class_string, (50, 50), cv2.FONT_HERSHEY_SIMPLEX, 1, (0, 255, 0), 2, cv2.LINE_AA)\n",
    "\n",
    "    # Display the frame\n",
    "    cv2.imshow(\"Sign Language Detection\", frame)\n",
    "\n",
    "    # Check if the user has pressed the ESC key to exit\n",
    "    if cv2.waitKey(1) == 27:\n",
    "        break\n",
    "\n",
    "# Release the camera and close all windows\n",
    "cap.release()\n",
    "cv2.destroyAllWindows()\n"
   ]
  },
  {
   "cell_type": "code",
   "execution_count": null,
   "id": "420fe3d4",
   "metadata": {},
   "outputs": [],
   "source": []
  }
 ],
 "metadata": {
  "kernelspec": {
   "display_name": "Python 3 (ipykernel)",
   "language": "python",
   "name": "python3"
  },
  "language_info": {
   "codemirror_mode": {
    "name": "ipython",
    "version": 3
   },
   "file_extension": ".py",
   "mimetype": "text/x-python",
   "name": "python",
   "nbconvert_exporter": "python",
   "pygments_lexer": "ipython3",
   "version": "3.10.2"
  }
 },
 "nbformat": 4,
 "nbformat_minor": 5
}
